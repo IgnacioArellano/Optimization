{
 "cells": [
  {
   "cell_type": "code",
   "execution_count": 344,
   "id": "a086fb5c",
   "metadata": {},
   "outputs": [],
   "source": [
    "import numpy as np\n",
    "import matplotlib.pyplot as plt\n",
    "from mpl_toolkits.mplot3d import Axes3D\n",
    "from matplotlib import cm\n",
    "import time\n",
    "import random"
   ]
  },
  {
   "cell_type": "code",
   "execution_count": 345,
   "id": "3694a911",
   "metadata": {},
   "outputs": [],
   "source": [
    "limInf=-1\n",
    "limSup=2\n",
    "def f(T):\n",
    "    ans =  (T**3-5*T+np.cos(T)*np.sin(20*T))*50\n",
    "    return ans"
   ]
  },
  {
   "cell_type": "code",
   "execution_count": 346,
   "id": "05a89439",
   "metadata": {},
   "outputs": [
    {
     "data": {
      "image/png": "[encoded data removed]",
      "text/plain": [
       "<Figure size 576x360 with 1 Axes>"
      ]
     },
     "metadata": {
      "needs_background": "light"
     },
     "output_type": "display_data"
    }
   ],
   "source": [
    "t = np.linspace(limInf,limSup,500)\n",
    "fu=f(t)\n",
    "fig1 = plt.figure(figsize=(8,5))\n",
    "plt.plot(t,fu)\n",
    "plt.xlabel(\"Temperature\")\n",
    "plt.ylabel(\"Cost(U)\")\n",
    "plt.grid(True)"
   ]
  },
  {
   "cell_type": "code",
   "execution_count": 347,
   "id": "2b41e0ec",
   "metadata": {},
   "outputs": [],
   "source": [
    "numIndividuos = 20\n",
    "numBits = 10"
   ]
  },
  {
   "cell_type": "code",
   "execution_count": 348,
   "id": "86d54299",
   "metadata": {},
   "outputs": [],
   "source": [
    "#Generar una cadena aleatoria de genes\n",
    "def genDNAString(length:int):\n",
    "    adnString = ''.join(random.choice([\"0\",\"1\"]) for i in range(length))\n",
    "    #print(adnString)\n",
    "    return adnString\n",
    "\n",
    "#decodificar una cadena de genes\n",
    "def decodeDNAString(adnString:str,limInf:float,limSup:float):\n",
    "    num = int(adnString,2)                  #Este es un int\n",
    "    numBits = len(adnString)                #Número de bits\n",
    "    base = (limSup-limInf)/(2**numBits-1)   #Resolución por cada bit\n",
    "    return base*num + limInf\n",
    "\n",
    "#definir una función que genere n individuos\n",
    "def genIndividuals(cantidad:int,numBits):\n",
    "    ans = []\n",
    "    for i in range(cantidad):\n",
    "        ans.append(genDNAString(numBits))\n",
    "    return ans"
   ]
  },
  {
   "cell_type": "code",
   "execution_count": 349,
   "id": "72a311f7",
   "metadata": {},
   "outputs": [
    {
     "data": {
      "text/plain": [
       "[0.03831639249781307,\n",
       " 0.002421905023490528,\n",
       " 0.006283725516120263,\n",
       " 0.0049368487907987335,\n",
       " 0.012706999297706247,\n",
       " 0.030015960110870415,\n",
       " 1.0,\n",
       " 0.005521180985468094,\n",
       " 0.0029957056302868483,\n",
       " 0.0038236369817599442,\n",
       " 0.06810204828514273,\n",
       " 0.006191550776790306,\n",
       " 0.006073744288907908,\n",
       " 0.004117450199405273,\n",
       " 0.004375863618678347,\n",
       " 0.0033580576350868605,\n",
       " 0.00737786962315208,\n",
       " 1.0,\n",
       " 0.004815376277377322,\n",
       " 0.005120498831450215]"
      ]
     },
     "execution_count": 349,
     "metadata": {},
     "output_type": "execute_result"
    }
   ],
   "source": [
    "#Generar población\n",
    "población = genIndividuals(numIndividuos,numBits)\n",
    "#Evaluar la fución\n",
    "fx = []\n",
    "\n",
    "for i in población:\n",
    "    fx.append(f(decodeDNAString(i,limInf,limSup)))\n",
    "#print(fx)\n",
    "\n",
    "\n",
    "#Evaluar fitness\n",
    "def evaluarFitness(fx):\n",
    "    #Escalar fx a valores positivos si es necesario:\n",
    "    if min(fx)<0:\n",
    "        #print(\"Valor negativo encontrado\")\n",
    "        for i in range(len(fx)):\n",
    "            fx[i] = fx[i]+abs(min(fx))\n",
    "    Fi = []\n",
    "    for eval in fx:\n",
    "        Fi.append(1/(1+eval))\n",
    "    return Fi\n",
    "#sacar fitness\n",
    "Fi = evaluarFitness(fx)\n",
    "Fi"
   ]
  },
  {
   "cell_type": "markdown",
   "id": "251362ef",
   "metadata": {},
   "source": [
    "# TORNEO"
   ]
  },
  {
   "cell_type": "code",
   "execution_count": 350,
   "id": "a5ca47c6",
   "metadata": {},
   "outputs": [
    {
     "name": "stdout",
     "output_type": "stream",
     "text": [
      "20\n"
     ]
    },
    {
     "data": {
      "text/plain": [
       "['1101011011',\n",
       " '1011100101',\n",
       " '0111101001',\n",
       " '0101000011',\n",
       " '1000100110',\n",
       " '1101101011',\n",
       " '1011100101',\n",
       " '0101000000',\n",
       " '0101000011',\n",
       " '0111101001',\n",
       " '1101101111',\n",
       " '1101101011',\n",
       " '1101101011',\n",
       " '1000100110',\n",
       " '0000010100',\n",
       " '1011100101',\n",
       " '0111000000',\n",
       " '1010001000',\n",
       " '0111000000',\n",
       " '0000010100']"
      ]
     },
     "execution_count": 350,
     "metadata": {},
     "output_type": "execute_result"
    }
   ],
   "source": [
    "def torneo(numIndividuos,Fi,población,numBits):\n",
    "    padres = []\n",
    "    ids = [j for j in range(numIndividuos)]\n",
    "    for i in range(numIndividuos):\n",
    "        oponente = random.choice(ids) #Elegir un oponente al azar\n",
    "        # print(i,oponente)\n",
    "        # print(Fi[i],Fi[oponente])\n",
    "        if Fi[i]>Fi[oponente]:\n",
    "            padres.append(población[i])\n",
    "        else:\n",
    "            padres.append(población[oponente])\n",
    "    return padres\n",
    "\n",
    "padres = torneo(numIndividuos,Fi,población,numBits)    #individuos ganadores\n",
    "    \n",
    "\n",
    "print(len(padres))\n",
    "padres"
   ]
  },
  {
   "cell_type": "markdown",
   "id": "1c01e138",
   "metadata": {},
   "source": [
    "# RULETA"
   ]
  },
  {
   "cell_type": "code",
   "execution_count": 351,
   "id": "6451352b",
   "metadata": {},
   "outputs": [],
   "source": [
    "def ruleta(numIndividuos,Fi,población,numBits):\n",
    "    total = 0\n",
    "    for fi in Fi:\n",
    "        total = total+fi\n",
    "    #print(total)\n",
    "    prob = []\n",
    "    for fi in Fi:\n",
    "        prob.append(fi/total)\n",
    "    from numpy.random import choice\n",
    "    padres = choice(población, numIndividuos, True, p=prob)\n",
    "    #print(padres)\n",
    "    return padres"
   ]
  },
  {
   "cell_type": "code",
   "execution_count": 352,
   "id": "4101a734",
   "metadata": {},
   "outputs": [
    {
     "name": "stdout",
     "output_type": "stream",
     "text": [
      "['1010000110' '1101101010' '1010000110' '1101101010' '1010000110'\n",
      " '1100110000' '1010000110' '1100110000' '1101101010' '1100110000'\n",
      " '1101101010' '1100110000' '1110011101' '1010000110' '1100110000'\n",
      " '1100110000' '1010000110' '1100110000' '1101101010' '1101101010']\n"
     ]
    }
   ],
   "source": [
    "población = genIndividuals(numIndividuos,numBits)\n",
    "fx = []\n",
    "for j in población:\n",
    "    fx.append(f(decodeDNAString(j,limInf,limSup)))\n",
    "#Evaluar el fitness\n",
    "Fi = evaluarFitness(fx)\n",
    "padres = ruleta(numIndividuos,Fi,población,numBits)\n",
    "print(padres)"
   ]
  },
  {
   "cell_type": "markdown",
   "id": "1752cf8e",
   "metadata": {},
   "source": [
    "# RANK"
   ]
  },
  {
   "cell_type": "code",
   "execution_count": 353,
   "id": "0a07b423",
   "metadata": {},
   "outputs": [],
   "source": [
    "#probabilidades\n",
    "def ps(n): #n es el num de individuos\n",
    "    probs= []\n",
    "    j=1\n",
    "    suman=n*(n+1)/2 # es la suma de numeros consecutivos desde 1 hasta \"n\"\n",
    "    #print(suman)\n",
    "    for i in range(n):\n",
    "        prob=j/suman\n",
    "        probs.append(prob)\n",
    "        j=j+1   #A calay !!\n",
    "    return probs"
   ]
  },
  {
   "cell_type": "code",
   "execution_count": 354,
   "id": "c1b2d1e5",
   "metadata": {},
   "outputs": [],
   "source": [
    "# funcion Rank\n",
    "def rank(numIndividuos,Fi,población,numBits):\n",
    "    probabilidades = ps(numIndividuos)\n",
    "    #print (población)\n",
    "    \n",
    "    #Ordenar las listas\n",
    "\n",
    "    acoplamiento = zip(Fi,población)\n",
    "    paresOrdenados = sorted(acoplamiento)\n",
    "    tuples = zip(*paresOrdenados)\n",
    "    basura,rank = [ list(tuple) for tuple in  tuples]\n",
    "    \n",
    "    from numpy.random import choice\n",
    "    padres = choice(rank, numIndividuos, True, p=probabilidades)    #Ruleta\n",
    "    \n",
    "    # for r in rank:\n",
    "    #     print(f(decodeDNAString(r,limInf,limSup)))\n",
    "    # #print(probabilidades)\n",
    "    return padres"
   ]
  },
  {
   "cell_type": "code",
   "execution_count": 355,
   "id": "aa03c5e1",
   "metadata": {},
   "outputs": [],
   "source": [
    "# padres = rank(numIndividuos,Fi,población,numBits)\n",
    "# print(padres)\n",
    "# for p in padres:\n",
    "#     print(decodeDNAString(p,limInf,limSup))"
   ]
  },
  {
   "cell_type": "markdown",
   "id": "4445ce91",
   "metadata": {},
   "source": [
    "**Cruzado y Mutación**"
   ]
  },
  {
   "cell_type": "code",
   "execution_count": 356,
   "id": "e110ec10",
   "metadata": {},
   "outputs": [],
   "source": [
    "def crossAndMutation(padres,numIndividuos,probMuta=0.02):\n",
    "    #Cruzado\n",
    "    from numpy.random import default_rng\n",
    "    rng = default_rng()\n",
    "    hijos=[]\n",
    "\n",
    "    for i in range(numIndividuos):\n",
    "        indices = rng.choice(numIndividuos,size=2,replace=False) #Que trucazo!!!\n",
    "        #print(indices)\n",
    "        puntocross = random.randint(1,numBits-2)\n",
    "        #vamos a tomar la subcadena del padre \n",
    "        left = padres[indices[0]][0:puntocross]\n",
    "        right = padres[indices[1]][puntocross:numBits]\n",
    "        hijos.append(left+right)\n",
    "    #     print(left,right)\n",
    "    # print(\"hijos\",hijos)\n",
    "    # print(len(hijos))\n",
    "\n",
    "    #Mutación\n",
    "    for i in range(numIndividuos):\n",
    "        if random.uniform(0,1) <= probMuta:\n",
    "            #muta\n",
    "            # print(\"EL HIJO\\t\",i,\"M U T Ó\")\n",
    "            # print(\"Original\",hijos[i])\n",
    "            bitmutado = random.randint(0,numBits-1)\n",
    "            #Porque python no deja modificar strings\n",
    "            aux = list(hijos[i])                #Convertir a lista\n",
    "            if hijos[i][bitmutado] == '0':      #Modificar el bit en la lista\n",
    "                aux[bitmutado] = '1'\n",
    "            else:\n",
    "                aux[bitmutado] = '0'\n",
    "            \n",
    "            hijos[i] = ''.join(map(str, aux))   #Convertir la lista a string de nuevo   \n",
    "            \n",
    "            #print(\"Mutado\\t\",hijos[i])\n",
    "    \n",
    "    return hijos\n"
   ]
  },
  {
   "cell_type": "markdown",
   "id": "05255cfa",
   "metadata": {},
   "source": [
    "# ESCOGER "
   ]
  },
  {
   "cell_type": "code",
   "execution_count": 357,
   "id": "fe0bcfae",
   "metadata": {
    "scrolled": true
   },
   "outputs": [
    {
     "name": "stdout",
     "output_type": "stream",
     "text": [
      "El mejor individuo tiene la cadena = 1011100111000001\n",
      "1.1768368047608146\n"
     ]
    }
   ],
   "source": [
    "iteraciones = 40\n",
    "numIndividuos = 100\n",
    "numBits = 16\n",
    "probMuta = 0.2\n",
    "#Generar población:\n",
    "población = genIndividuals(numIndividuos,numBits)\n",
    "\n",
    "for i in range(iteraciones):\n",
    "    #Evaluar la función\n",
    "    fx = []\n",
    "    for j in población:\n",
    "        fx.append(f(decodeDNAString(j,limInf,limSup)))\n",
    "    #Evaluar el fitness\n",
    "    Fi = evaluarFitness(fx)\n",
    "    padres = rank(numIndividuos,Fi,población,numBits)\n",
    "    población = crossAndMutation(padres,numIndividuos,probMuta)\n",
    "\n",
    "\n",
    "mejor = población[fx.index(min(fx))]\n",
    "#print(fx)\n",
    "print(\"El mejor individuo tiene la cadena =\",mejor)\n",
    "print(decodeDNAString(mejor,limInf,limSup))"
   ]
  },
  {
   "cell_type": "code",
   "execution_count": 358,
   "id": "169489d1",
   "metadata": {},
   "outputs": [
    {
     "name": "stdout",
     "output_type": "stream",
     "text": [
      "El mejor individuo tiene la cadena = 1011100111000001\n",
      "1.1768368047608146\n"
     ]
    }
   ],
   "source": [
    "mejor = población[fx.index(min(fx))]\n",
    "\n",
    "#print(fx)\n",
    "print(\"El mejor individuo tiene la cadena =\",mejor)\n",
    "print(decodeDNAString(mejor,limInf,limSup))"
   ]
  },
  {
   "cell_type": "code",
   "execution_count": 359,
   "id": "0a325484",
   "metadata": {},
   "outputs": [],
   "source": [
    "def optGen(método:str,numIndividuos:int,numBits:int,generaciones:int,probMuta=0.02,función=f,limInf=40,limSup=90):\n",
    "    #Generar población:\n",
    "    población = genIndividuals(numIndividuos,numBits)\n",
    "    for i in range(generaciones):\n",
    "        #Evaluar la función\n",
    "        fx = []\n",
    "        for j in población:\n",
    "            fx.append(f(decodeDNAString(j,limInf,limSup)))\n",
    "        #Evaluar el fitness\n",
    "        Fi = evaluarFitness(fx)\n",
    "        \n",
    "        if(método==\"torneo\"):\n",
    "            padres = torneo(numIndividuos,Fi,población,numBits)\n",
    "        elif(método==\"ruleta\"):\n",
    "            padres = ruleta(numIndividuos,Fi,población,numBits)\n",
    "        elif(método==\"rank\"):\n",
    "            padres = rank(numIndividuos,Fi,población,numBits)\n",
    "        else:\n",
    "            print(\"Error FATAL, método no reconocido\")\n",
    "            print(\"Métodos válidos: 'torneo','ruleta','rank'\")\n",
    "            return None,None,None\n",
    "            \n",
    "        población = crossAndMutation(padres,numIndividuos,probMuta)\n",
    "\n",
    "        mejor = población[fx.index(min(fx))]\n",
    "        xmin = decodeDNAString(mejor,limInf,limSup)\n",
    "        fmin = f(xmin)\n",
    "    \n",
    "    return población,mejor,xmin,fmin"
   ]
  },
  {
   "cell_type": "code",
   "execution_count": 360,
   "id": "3f1d2f8e",
   "metadata": {},
   "outputs": [
    {
     "name": "stdout",
     "output_type": "stream",
     "text": [
      "['1011100111010010', '1011100111010010', '1011100111010010', '1011100111010010', '1011100111010010', '1011100111010010', '1011100111010010', '1011100111010010', '1011100111010010', '1011100111010010', '1011100111010010', '1011100111010010', '1011100111010010', '1011100111010010', '0011100111010010', '1011100111010010', '1011100111010010', '1011100111010010', '1011100111010010', '1011100111010010', '1011100111010010', '1011100111010010', '1011100111010010', '1011100111010010', '1011100111010010', '1011100111010010', '1011100111010010', '1011100111010010', '1011100111010010', '1011100111010010', '1011100111010010', '1011100111010010', '1011100111010010', '1011100111010010', '1011100111010010', '1011100111010010', '1011100111010010', '1011100111010010', '1011100111010010', '1011100111010010']\n",
      "El mejor individuo es:\t 1011100111010010\n",
      "xmin = \u001b[92m1.1776150148775462\u001b[0m\n",
      "f(xmin) = -231.9048301671697\n"
     ]
    }
   ],
   "source": [
    "población,mejor,xmin,fmin = optGen(\"torneo\",40,32,30,probMuta=0.02,función=f,limInf=limInf,limSup=limSup)\n",
    "print(población)\n",
    "print(\"El mejor individuo es:\\t\",mejor)\n",
    "print(\"xmin = \",\"\\033[92m\",xmin,'\\033[0m',sep=\"\")\n",
    "print(\"f(xmin) =\",fmin)"
   ]
  }
 ],
 "metadata": {
  "interpreter": {
   "hash": "5f89ea19deeaaf1f176387edbb9b7cc72d721332c28040f46aae8421e811c1cf"
  },
  "kernelspec": {
   "display_name": "Python 3.9.7 ('base')",
   "language": "python",
   "name": "python3"
  },
  "language_info": {
   "codemirror_mode": {
    "name": "ipython",
    "version": 3
   },
   "file_extension": ".py",
   "mimetype": "text/x-python",
   "name": "python",
   "nbconvert_exporter": "python",
   "pygments_lexer": "ipython3",
   "version": "3.9.7"
  }
 },
 "nbformat": 4,
 "nbformat_minor": 5
}
