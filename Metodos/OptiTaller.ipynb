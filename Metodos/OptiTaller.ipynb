{
 "cells": [
  {
   "cell_type": "code",
   "execution_count": 99,
   "metadata": {},
   "outputs": [],
   "source": [
    "import numpy as np\n",
    "import random\n",
    "import matplotlib.pyplot as plt"
   ]
  },
  {
   "cell_type": "code",
   "execution_count": 100,
   "metadata": {},
   "outputs": [],
   "source": [
    "limInf=-1\n",
    "limSup=3\n",
    "def f(T):\n",
    "    ans =  (T**3-5*T+np.cos(T)*np.sin(10*T))*50\n",
    "    return ans\n"
   ]
  },
  {
   "cell_type": "code",
   "execution_count": 101,
   "metadata": {},
   "outputs": [
    {
     "name": "stdout",
     "output_type": "stream",
     "text": [
      "Individuo = 0 : [1, 1, 0, 0, 0, 1, 1, 0]\n",
      "Individuo = 1 : [0, 0, 0, 0, 0, 0, 1, 1]\n",
      "Individuo = 2 : [0, 1, 1, 1, 1, 0, 1, 1]\n",
      "Individuo = 3 : [0, 1, 1, 1, 1, 1, 1, 1]\n",
      "Individuo = 4 : [0, 0, 0, 1, 0, 1, 1, 0]\n"
     ]
    }
   ],
   "source": [
    "def initPupulation(populationSize:int,nbits:int,verbose=False):\n",
    "    individuos = []\n",
    "    for i in range(populationSize):\n",
    "        adnList = [random.getrandbits(1) for number in range(nbits)]\n",
    "        individuos.append(adnList)\n",
    "        if verbose:\n",
    "            print(\"Individuo =\",str(i),\":\",str(adnList))\n",
    "    \n",
    "    return individuos\n",
    "\n",
    "población = initPupulation(5,8,True)"
   ]
  },
  {
   "cell_type": "code",
   "execution_count": 102,
   "metadata": {},
   "outputs": [
    {
     "data": {
      "text/plain": [
       "198"
      ]
     },
     "execution_count": 102,
     "metadata": {},
     "output_type": "execute_result"
    }
   ],
   "source": [
    "def decodeString(binString):\n",
    "    ans = 0\n",
    "    ans = sum(val*(2**idx) for idx,val in enumerate(reversed(binString)))\n",
    "    return ans\n",
    "\n",
    "decodeString(población[0])"
   ]
  },
  {
   "cell_type": "code",
   "execution_count": 103,
   "metadata": {},
   "outputs": [
    {
     "name": "stdout",
     "output_type": "stream",
     "text": [
      "Individuo = 0 : [1, 1, 0, 0, 0, 1, 1, 0] x = 2.1058823529411765 \tf(x) = -79.9917888712111\n",
      "Individuo = 1 : [0, 0, 0, 0, 0, 0, 1, 1] x = -0.9529411764705882 \tf(x) = 197.99227763740555\n",
      "Individuo = 2 : [0, 1, 1, 1, 1, 0, 1, 1] x = 0.9294117647058824 \tf(x) = -188.3137311805991\n",
      "Individuo = 3 : [0, 1, 1, 1, 1, 1, 1, 1] x = 0.9921568627450981 \tf(x) = -212.2389430841859\n",
      "Individuo = 4 : [0, 0, 0, 1, 0, 1, 1, 0] x = -0.6549019607843137 \tf(x) = 139.26319154356776\n",
      "[-79.9917888712111, 197.99227763740555, -188.3137311805991, -212.2389430841859, 139.26319154356776]\n"
     ]
    }
   ],
   "source": [
    "def fitness(fx,población,interval:list,populationSize,nbits,verbose=False):\n",
    "    populationFitness = []\n",
    "    maxValue = 2**nbits-1\n",
    "    for i in range(populationSize):\n",
    "        d = decodeString(población[i])\n",
    "        x = interval[0]+((interval[1]-interval[0])*d)/maxValue\n",
    "        populationFitness.append(fx(x))\n",
    "        if verbose:\n",
    "            print(\"Individuo =\",str(i),\":\",str(población[i]),\"x =\",x,\"\\tf(x) =\",fx(x))\n",
    "\n",
    "    return populationFitness\n",
    "\n",
    "fit = fitness(f,población,[-1,3],len(población),8,True)\n",
    "print(fit)"
   ]
  },
  {
   "cell_type": "code",
   "execution_count": 104,
   "metadata": {},
   "outputs": [
    {
     "name": "stdout",
     "output_type": "stream",
     "text": [
      "Individuo seleccionado: [0, 1, 1, 1, 1, 0, 1, 1]\n",
      "Individuo seleccionado: [0, 0, 0, 1, 0, 1, 1, 0]\n",
      "Individuo seleccionado: [0, 1, 1, 1, 1, 1, 1, 1]\n",
      "Individuo seleccionado: [0, 1, 1, 1, 1, 1, 1, 1]\n",
      "Individuo seleccionado: [0, 0, 0, 1, 0, 1, 1, 0]\n"
     ]
    }
   ],
   "source": [
    "def torneo(populationFitness,población,pupulationSize,verbose=False):\n",
    "    selectedPopulation=[]\n",
    "    index = [random.randint(0,pupulationSize-1) for i in range(pupulationSize)]\n",
    "\n",
    "    for i,j in zip(range(pupulationSize),index):\n",
    "        mini = np.argmin([populationFitness[i],populationFitness[j]])\n",
    "        if mini == 0:\n",
    "            selectedPopulation.append(población[i])\n",
    "        else:\n",
    "            selectedPopulation.append(población[j])\n",
    "        \n",
    "        if verbose:\n",
    "            print(\"Individuo seleccionado:\",selectedPopulation[i])\n",
    "    \n",
    "    return selectedPopulation\n",
    "\n",
    "padres = torneo(fit,población,len(población),True)"
   ]
  },
  {
   "cell_type": "code",
   "execution_count": 105,
   "metadata": {},
   "outputs": [
    {
     "name": "stdout",
     "output_type": "stream",
     "text": [
      "[[0, 1, 1, 1, 1, 1, 1, 1], [0, 0, 0, 1, 0, 1, 1, 0], [0, 1, 1, 1, 1, 1, 1, 1], [0, 0, 0, 1, 0, 1, 1, 0], [0, 0, 0, 1, 0, 1, 1, 0]]\n"
     ]
    }
   ],
   "source": [
    "def crossOver(población,pupulationSize,nbits):\n",
    "\n",
    "    puntoCross = random.randint(1,nbits-2)\n",
    "    i=0\n",
    "    contInt=0\n",
    "    newGeneration = []\n",
    "\n",
    "    while i<pupulationSize:\n",
    "        indexParents = [random.randint(0,pupulationSize-1) for i in range(2)]\n",
    "        if indexParents[0]!=indexParents[1] or contInt>5:\n",
    "            puntoCross = random.randint(1,nbits-2)\n",
    "            temporal = población[indexParents[0]][0:puntoCross] + \\\n",
    "            población[indexParents[0]][puntoCross:]\n",
    "            newGeneration.append(temporal)\n",
    "            i = i+1\n",
    "        else:\n",
    "           contInt = contInt+1\n",
    "        \n",
    "    return newGeneration\n",
    "\n",
    "padres = crossOver(padres,len(padres),8)\n",
    "print(padres)"
   ]
  },
  {
   "cell_type": "code",
   "execution_count": 106,
   "metadata": {},
   "outputs": [
    {
     "name": "stdout",
     "output_type": "stream",
     "text": [
      "Número de bits mutados 0\n"
     ]
    },
    {
     "data": {
      "text/plain": [
       "[[0, 1, 1, 1, 1, 1, 1, 1],\n",
       " [0, 0, 0, 1, 0, 1, 1, 0],\n",
       " [0, 1, 1, 1, 1, 1, 1, 1],\n",
       " [0, 0, 0, 1, 0, 1, 1, 0],\n",
       " [0, 0, 0, 1, 0, 1, 1, 0]]"
      ]
     },
     "execution_count": 106,
     "metadata": {},
     "output_type": "execute_result"
    }
   ],
   "source": [
    "def mutation(individuos,populationSize,nbits,probMuta=0.02,verbose=False):\n",
    "    dat = np.random.uniform(low=0,high=1,size=populationSize)\n",
    "    nMut = sum(dat<probMuta)\n",
    "    nbitsMutados = 0\n",
    "    if nMut>0:\n",
    "        mut = dat<probMuta\n",
    "        indMut = np.where(mut==True)\n",
    "        indMut = np.asarray(indMut)\n",
    "        indMut = np.reshape(indMut,(indMut.shape[1],))\n",
    "\n",
    "        bitMut = [random.randint(0,nbits-1) for i in range(nMut)]\n",
    "\n",
    "        for i,j in zip(indMut,bitMut):\n",
    "            individuos[i][j]=1-individuos[i][j]\n",
    "        \n",
    "    if verbose:\n",
    "        print(\"Número de bits mutados\",nMut)\n",
    "    return individuos\n",
    "\n",
    "mutation(padres,len(padres),8,verbose=True)"
   ]
  },
  {
   "cell_type": "code",
   "execution_count": 110,
   "metadata": {},
   "outputs": [
    {
     "name": "stdout",
     "output_type": "stream",
     "text": [
      "xmin = \u001b[92m1.151338979171435\u001b[0m\n",
      "-229.2187408670726\n"
     ]
    }
   ],
   "source": [
    "size_population=30\n",
    "nbits = 16\n",
    "interval = [-1,3]\n",
    "generations = 5\n",
    "\n",
    "individuos = initPupulation(size_population,nbits)\n",
    "\n",
    "for i in range(generations):\n",
    "    fitnes_population = fitness(f,individuos,interval,size_population,nbits)\n",
    "    selected_population = torneo(fitnes_population,individuos,len(individuos))\n",
    "    individuos = crossOver(selected_population,len(selected_population),nbits)\n",
    "    individuos = mutation(individuos,len(individuos),nbits)\n",
    "\n",
    "fitnes_population = fitness(f,individuos,interval,len(individuos),nbits,verbose=False)\n",
    "indexMin=np.argmin(fitnes_population)\n",
    "\n",
    "x = decodeString(individuos[indexMin])\n",
    "maxValue = 2**nbits-1\n",
    "x = interval[0]+((interval[1]-interval[0])*x)/maxValue\n",
    "print(\"xmin = \",\"\\033[92m\",x,'\\033[0m',sep=\"\")\n",
    "print(f(x))"
   ]
  },
  {
   "cell_type": "code",
   "execution_count": 109,
   "metadata": {},
   "outputs": [
    {
     "data": {
      "image/png": "[encoded data removed]",
      "text/plain": [
       "<Figure size 576x360 with 1 Axes>"
      ]
     },
     "metadata": {
      "needs_background": "light"
     },
     "output_type": "display_data"
    }
   ],
   "source": [
    "t = np.linspace(interval[0],interval[1],500)\n",
    "fu=f(t)\n",
    "fig1 = plt.figure(figsize=(8,5))\n",
    "plt.plot(t,fu)\n",
    "plt.grid(True)"
   ]
  }
 ],
 "metadata": {
  "kernelspec": {
   "display_name": "Python 3.9.7 ('base')",
   "language": "python",
   "name": "python3"
  },
  "language_info": {
   "codemirror_mode": {
    "name": "ipython",
    "version": 3
   },
   "file_extension": ".py",
   "mimetype": "text/x-python",
   "name": "python",
   "nbconvert_exporter": "python",
   "pygments_lexer": "ipython3",
   "version": "3.9.7"
  },
  "orig_nbformat": 4,
  "vscode": {
   "interpreter": {
    "hash": "5f89ea19deeaaf1f176387edbb9b7cc72d721332c28040f46aae8421e811c1cf"
   }
  }
 },
 "nbformat": 4,
 "nbformat_minor": 2
}
