{
 "cells": [
  {
   "cell_type": "code",
   "execution_count": 538,
   "id": "e35bb393",
   "metadata": {},
   "outputs": [],
   "source": [
    "import numpy as np\n",
    "import matplotlib.pyplot as plt\n",
    "from mpl_toolkits.mplot3d import Axes3D\n",
    "from matplotlib import cm\n",
    "import time\n",
    "import random"
   ]
  },
  {
   "cell_type": "code",
   "execution_count": 539,
   "id": "c4fbdfe3",
   "metadata": {},
   "outputs": [],
   "source": [
    "limInf=-1\n",
    "limSup=3\n",
    "def f(T):\n",
    "    ans =  (T**3-5*T+np.cos(T)*np.sin(10*T))*50\n",
    "    return ans\n",
    "\n",
    "# limInf=40\n",
    "# limSup=90\n",
    "# def f(T):\n",
    "#     ans = (204165.5)/(330-2*T)+(10400)/(T-20)\n",
    "#     return ans"
   ]
  },
  {
   "cell_type": "code",
   "execution_count": 540,
   "id": "5740cdf1",
   "metadata": {},
   "outputs": [
    {
     "data": {
      "image/png": "[encoded data removed]",
      "text/plain": [
       "<Figure size 576x360 with 1 Axes>"
      ]
     },
     "metadata": {
      "needs_background": "light"
     },
     "output_type": "display_data"
    }
   ],
   "source": [
    "t = np.linspace(limInf,limSup,500)\n",
    "fu=f(t)\n",
    "fig1 = plt.figure(figsize=(8,5))\n",
    "plt.plot(t,fu)\n",
    "plt.xlabel(\"Temperature\")\n",
    "plt.ylabel(\"Cost(U)\")\n",
    "plt.grid(True)"
   ]
  },
  {
   "cell_type": "code",
   "execution_count": 541,
   "id": "e3b7ff40",
   "metadata": {},
   "outputs": [],
   "source": [
    "#Generar una cadena aleatoria de genes\n",
    "def genDNAList(length:int,name:str):\n",
    "    adnString = [[name,random.choice([\"0\",\"1\"])] for i in range(length)]\n",
    "    \n",
    "    #adnString = ''.join(random.choice([\"0\",\"1\"]) for i in range(length))\n",
    "    #print(adnString)\n",
    "    return adnString\n",
    "\n",
    "#decodificar una cadena de genes\n",
    "def decodeDNAString(adnString:str,limInf:float,limSup:float):\n",
    "    num = int(adnString,2)                  #Este es un int\n",
    "    numBits = len(adnString)                #Número de bits\n",
    "    base = (limSup-limInf)/(2**numBits-1)   #Resolución por cada bit\n",
    "    return base*num + limInf\n",
    "\n",
    "def encodeDNAString(xi:float,name:str,numBits:int,limInf:float,limSup:float):\n",
    "    VD = (xi-limInf)*(2**numBits-1)/(limSup-limInf)\n",
    "    redondeo = int(VD)\n",
    "    binariString = format(redondeo,str(numBits)+'b')        \n",
    "    adnString = [[name,bit] for bit in binariString[1:]]    #Se codifica un bit de más\n",
    "    return adnString\n",
    "\n",
    "#definir una función que genere n individuos\n",
    "def genIndividuals(names:dict,numBits,limInf:float,limSup:float):\n",
    "    ans = []\n",
    "    for i in names.keys():\n",
    "        ans.append(encodeDNAString(names[i],i,numBits,limInf,limSup))\n",
    "    return ans\n",
    "\n",
    "#print(encodeDNAString(1.439,\"Ignacio\",8,-1,2))\n",
    "\n",
    "# print(genDNAList(5,\"Luis\"))\n",
    "# names = [\"Luis\",\"Nacho\",\"Ignacio\"]\n",
    "# población = genIndividuals(names,8)\n"
   ]
  },
  {
   "cell_type": "code",
   "execution_count": 542,
   "id": "a19dce07",
   "metadata": {},
   "outputs": [],
   "source": [
    "#Evaluar la fución\n",
    "def evaluarFunción(población:list):\n",
    "    fx = []\n",
    "    for i in población:\n",
    "        #for gen in i: print(gen) \n",
    "        listaAux = [gen[1] for gen in i]\n",
    "        stringAux = ''.join(map(str, listaAux))\n",
    "        fx.append(f(decodeDNAString(stringAux,limInf,limSup)))\n",
    "    return fx\n",
    "\n",
    "#Evaluar fitness\n",
    "def evaluarFitness(fx):\n",
    "    #Escalar fx a valores positivos si es necesario:\n",
    "    if min(fx)<0:\n",
    "        #print(\"Valor negativo encontrado\")\n",
    "        for i in range(len(fx)):\n",
    "            fx[i] = fx[i]+abs(min(fx))\n",
    "    #Normalización de fx en Fi\n",
    "    Fi = []\n",
    "    for eval in fx:\n",
    "        Fi.append(1/(1+eval))\n",
    "    return Fi\n"
   ]
  },
  {
   "cell_type": "markdown",
   "id": "0527e77c",
   "metadata": {},
   "source": [
    "# MÉTODOS"
   ]
  },
  {
   "cell_type": "markdown",
   "id": "4b391994",
   "metadata": {},
   "source": [
    "# Torneo"
   ]
  },
  {
   "cell_type": "code",
   "execution_count": 543,
   "id": "9c95da6b",
   "metadata": {},
   "outputs": [],
   "source": [
    "def torneo(numIndividuos,Fi,población,numBits):\n",
    "    padres = []\n",
    "    ids = [j for j in range(numIndividuos)] #0 hasta numIndividuos-1\n",
    "    for i in range(numIndividuos):\n",
    "        oponente = random.choice(ids)       #Elegir un oponente al azar\n",
    "        # print(i,oponente)\n",
    "        # print(Fi[i],Fi[oponente])\n",
    "        if Fi[i]>Fi[oponente]:\n",
    "            padres.append(población[i])         #el ganador local\n",
    "        else:\n",
    "            padres.append(población[oponente])  #ganador visitante\n",
    "    return padres\n",
    "\n",
    "#padres = torneo(numIndividuos,Fi,población,numBits)    #individuos ganadores\n"
   ]
  },
  {
   "cell_type": "markdown",
   "id": "07d90500",
   "metadata": {},
   "source": [
    "# Ruleta"
   ]
  },
  {
   "cell_type": "code",
   "execution_count": 544,
   "id": "b4aca376",
   "metadata": {},
   "outputs": [],
   "source": [
    "def ruleta(numIndividuos,Fi,población,numBits):\n",
    "    total = 0\n",
    "    for fi in Fi:\n",
    "        total = total+fi\n",
    "    #print(total)\n",
    "    #sacar probabilidad\n",
    "    #nota: la probabilidad es diferentes y casi siempre esta muy cargada\n",
    "    prob = []\n",
    "    for fi in Fi:\n",
    "        prob.append(fi/total)\n",
    "    from numpy.random import choice\n",
    "    indexs = [i for i in range(len(población))]\n",
    "    indexs = choice(indexs, numIndividuos, True, p=prob)\n",
    "    padres = [población[i] for i in indexs]\n",
    "    #print(padres)\n",
    "    return padres"
   ]
  },
  {
   "cell_type": "markdown",
   "id": "b15ab791",
   "metadata": {},
   "source": [
    "  # Rank"
   ]
  },
  {
   "cell_type": "code",
   "execution_count": 545,
   "id": "67fb4099",
   "metadata": {},
   "outputs": [],
   "source": [
    "#probabilidades\n",
    "def ps(n): #n es el num de individuos\n",
    "    probs= []\n",
    "    j=1\n",
    "    suman=n*(n+1)/2 # es la suma de numeros consecutivos desde 1 hasta \"n\"\n",
    "    #print(suman)\n",
    "    for i in range(n):\n",
    "        prob=j/suman\n",
    "        probs.append(prob)\n",
    "        j=j+1   #A calay !!\n",
    "    return probs"
   ]
  },
  {
   "cell_type": "code",
   "execution_count": 546,
   "id": "b4704a1e",
   "metadata": {},
   "outputs": [],
   "source": [
    "# funcion Rank\n",
    "def rank(numIndividuos,Fi,población,numBits):\n",
    "    probabilidades = ps(numIndividuos)\n",
    "    #print (población)\n",
    "    \n",
    "    #Ordenar las listas\n",
    "\n",
    "    acoplamiento = zip(Fi,población) #zip: acopla las listas\n",
    "    paresOrdenados = sorted(acoplamiento) #ordena deacuerdo al primer arreglo:acomplamiento y regresa pares ordenados\n",
    "    tuples = zip(*paresOrdenados) #devuelve una lista de pares ordenados \n",
    "    basura,rank = [ list(tuple) for tuple in  tuples] #desacoplan #nos interesa el rank ordenado: lista poblacion ordenada deac. al fitness\n",
    "    \n",
    "    from numpy.random import choice\n",
    "    #nota:rank es la problación ordenada deacuerdo a su fitness\n",
    "    indexs = [i for i in range(len(población))]\n",
    "    indexs = choice(indexs, numIndividuos, True, p=probabilidades)\n",
    "    padres = [población[i] for i in indexs]\n",
    "    \n",
    "    # for r in rank:\n",
    "    #     print(f(decodeDNAString(r,limInf,limSup)))\n",
    "    # #print(probabilidades)\n",
    "    return padres"
   ]
  },
  {
   "cell_type": "markdown",
   "id": "4557de34",
   "metadata": {},
   "source": [
    "# Cross"
   ]
  },
  {
   "cell_type": "code",
   "execution_count": 547,
   "id": "6d03df6c",
   "metadata": {},
   "outputs": [],
   "source": [
    "def crossAndMutation(padres,numIndividuos,numBits,probMuta=0.02):\n",
    "    #Cruzado\n",
    "    #choice: le das n numeros para sacar de la tombola y le pides el tamaño de la tombola\n",
    "    from numpy.random import default_rng\n",
    "    rng = default_rng()\n",
    "    hijos=[]\n",
    "\n",
    "    for i in range(numIndividuos):\n",
    "        indices = rng.choice(numIndividuos,size=2,replace=False) #Que trucazo!!!\n",
    "        puntocross = random.randint(1,numBits-2) #apartir de que bit voy a agarrar los genes del primer ind y del otro\n",
    "        #vamos a tomar la subcadena del padre \n",
    "        left = padres[indices[0]][0:puntocross] #[primer individuo] [gen 0:puntocross-1]\n",
    "        right = padres[indices[1]][puntocross:numBits] # [2 individuo][gen puntocross:final]\n",
    "        hijos.append(left+right) \n",
    "\n",
    "    #Mutación\n",
    "    for i in range(numIndividuos):\n",
    "        if random.uniform(0,1) <= probMuta:\n",
    "            #muta\n",
    "            bitmutado = random.randint(1,numBits-1) #Para saber cual bit va a mutar            \n",
    "            name    =hijos[i][bitmutado][0]\n",
    "            gen     =hijos[i][bitmutado][1]\n",
    "            #print(name,gen)\n",
    "            if gen == '0':      #Modificar el bit en la lista: se modifica el bit de 0 a 1 o de 1 a 0\n",
    "                hijos[i][bitmutado] = [name+\" +\",'1']\n",
    "            else:\n",
    "                hijos[i][bitmutado] = [name+\" +\",'0']\n",
    "             \n",
    "    return hijos"
   ]
  },
  {
   "cell_type": "markdown",
   "id": "b5cd3da7",
   "metadata": {},
   "source": [
    "# Escoger"
   ]
  },
  {
   "cell_type": "code",
   "execution_count": 548,
   "id": "fd9a04df",
   "metadata": {},
   "outputs": [],
   "source": [
    "\n",
    "def optGen(método:str,names:list,numBits:int,generaciones:int,probMuta=0.02,función=f,limInf=40,limSup=90):\n",
    "    #Generar población:\n",
    "    población = genIndividuals(names,numBits,limInf,limSup)\n",
    "    \n",
    "    for i in range(generaciones):\n",
    "        #Evaluar la función\n",
    "        fx = evaluarFunción(población)\n",
    "        #Evaluar el fitness\n",
    "        Fi = evaluarFitness(fx)\n",
    "        \n",
    "        if(método==\"torneo\"):\n",
    "            padres = torneo(len(names),Fi,población,numBits)\n",
    "        elif(método==\"ruleta\"):\n",
    "            padres = ruleta(len(names),Fi,población,numBits)\n",
    "        elif(método==\"rank\"):\n",
    "            padres = rank(len(names),Fi,población,numBits)\n",
    "        else:\n",
    "            print(\"Error FATAL, método no reconocido\")\n",
    "            return None,None,None\n",
    "            \n",
    "        población = crossAndMutation(padres,len(names),numBits,probMuta)\n",
    "\n",
    "        #si la función es igual al minimo, ¿que individuo es?\n",
    "        mejor = población[fx.index(min(fx))]\n",
    "        listaAux = [gen[1] for gen in mejor]\n",
    "        stringAux = ''.join(map(str, listaAux))\n",
    "        xmin = decodeDNAString(stringAux,limInf,limSup)\n",
    "        fmin = f(xmin)\n",
    "\n",
    "        # listaAux = [gen[1] for gen in i]\n",
    "        # stringAux = ''.join(map(str, listaAux))\n",
    "        # fx.append(f(decodeDNAString(stringAux,limInf,limSup)))\n",
    "    \n",
    "    return población,mejor,xmin,fmin"
   ]
  },
  {
   "cell_type": "code",
   "execution_count": 549,
   "id": "e4e0220b",
   "metadata": {},
   "outputs": [],
   "source": [
    "names = {\n",
    "    \"Luis\":-0.5,\n",
    "    \"Nacho\":1.2,\n",
    "    \"Dr Gama\":-0.75,\n",
    "    \"Naram\":1.53,\n",
    "    \"Jacqueline\":1.59,\n",
    "    \"Dr Efren\":2.5,\n",
    "    \"Chike\":1.43\n",
    "}\n",
    "\n",
    "población,mejor,xmin,fmin = optGen(\"rank\",names,256,10,limInf=limInf,limSup=limSup)"
   ]
  },
  {
   "cell_type": "code",
   "execution_count": 550,
   "id": "585ec0d8",
   "metadata": {},
   "outputs": [
    {
     "name": "stdout",
     "output_type": "stream",
     "text": [
      "xmin = \u001b[92m0.17999999970197678\u001b[0m\n",
      "f(xmin) = 3.197292577772509\n"
     ]
    }
   ],
   "source": [
    "#Resultados\n",
    "#print(población)\n",
    "#print(\"\\n \\n\")\n",
    "#print(\"El mejor individuo es:\\t\",mejor)\n",
    "print(\"xmin = \",\"\\033[92m\",xmin,'\\033[0m',sep=\"\")\n",
    "print(\"f(xmin) =\",fmin)\n"
   ]
  },
  {
   "cell_type": "code",
   "execution_count": 551,
   "id": "71137467",
   "metadata": {},
   "outputs": [
    {
     "name": "stdout",
     "output_type": "stream",
     "text": [
      "Nombre     Participación %\n",
      "Jacqueline 37.254901960784316\n",
      "Dr Gama    26.27450980392157\n",
      "Dr Efren   26.27450980392157\n",
      "Chike      10.196078431372548\n",
      "Luis       0.0       \n",
      "Nacho      0.0       \n",
      "Naram      0.0       \n"
     ]
    }
   ],
   "source": [
    "#Porcentajes de la solución\n",
    "tablaParticipación = dict.fromkeys(names.keys())\n",
    "\n",
    "for i in tablaParticipación:\n",
    "    tablaParticipación[i] = 0\n",
    "    pass\n",
    "\n",
    "for i in tablaParticipación.keys():\n",
    "    sum = 0\n",
    "    for element in mejor:\n",
    "        if element[0].startswith(i):\n",
    "            sum = sum+1\n",
    "    tablaParticipación[i]=(sum/len(mejor))*100\n",
    "\n",
    "#Ordenar\n",
    "tablaParticipación = dict(sorted(tablaParticipación.items(), key=lambda item: item[1],reverse=True))\n",
    "\n",
    "#Tabla de participación\n",
    "# Print the names of the columns.\n",
    "print (\"{:<10} {:<10}\".format('Nombre','Participación %'))\n",
    " \n",
    "# print each data item.\n",
    "for key, value in tablaParticipación.items():\n",
    "    print (\"{:<10} {:<10}\".format(key,value))\n",
    "\n"
   ]
  }
 ],
 "metadata": {
  "interpreter": {
   "hash": "5f89ea19deeaaf1f176387edbb9b7cc72d721332c28040f46aae8421e811c1cf"
  },
  "kernelspec": {
   "display_name": "Python 3.9.7 ('base')",
   "language": "python",
   "name": "python3"
  },
  "language_info": {
   "codemirror_mode": {
    "name": "ipython",
    "version": 3
   },
   "file_extension": ".py",
   "mimetype": "text/x-python",
   "name": "python",
   "nbconvert_exporter": "python",
   "pygments_lexer": "ipython3",
   "version": "3.9.7"
  }
 },
 "nbformat": 4,
 "nbformat_minor": 5
}
