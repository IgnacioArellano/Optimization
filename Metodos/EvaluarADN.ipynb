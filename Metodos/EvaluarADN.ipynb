{
 "cells": [
  {
   "cell_type": "markdown",
   "metadata": {},
   "source": [
    "**Decodicación de cadena genética binaria**"
   ]
  },
  {
   "cell_type": "code",
   "execution_count": 5,
   "metadata": {},
   "outputs": [],
   "source": [
    "import numpy as np\n",
    "import matplotlib.pyplot as plt\n",
    "from mpl_toolkits.mplot3d import Axes3D\n",
    "from matplotlib import cm\n",
    "import time\n",
    "import random"
   ]
  },
  {
   "cell_type": "code",
   "execution_count": 6,
   "metadata": {},
   "outputs": [],
   "source": [
    "def f(T):\n",
    "    ans = (204165.5)/(330-2*T)+(10400)/(T-20)\n",
    "    return ans"
   ]
  },
  {
   "cell_type": "code",
   "execution_count": 7,
   "metadata": {},
   "outputs": [
    {
     "data": {
      "image/png": "[encoded data removed]",
      "text/plain": [
       "<Figure size 576x360 with 1 Axes>"
      ]
     },
     "metadata": {
      "needs_background": "light"
     },
     "output_type": "display_data"
    }
   ],
   "source": [
    "limInf=40\n",
    "limSup=90\n",
    "\n",
    "t = np.linspace(limInf,limSup,500)\n",
    "fu=f(t)\n",
    "fig1 = plt.figure(figsize=(8,5))\n",
    "plt.plot(t,fu)\n",
    "plt.xlabel(\"Temperature\")\n",
    "plt.ylabel(\"Cost(U)\")\n",
    "plt.grid(True)"
   ]
  },
  {
   "cell_type": "code",
   "execution_count": 8,
   "metadata": {},
   "outputs": [
    {
     "name": "stdout",
     "output_type": "stream",
     "text": [
      "11100101 84.90196078431373\n",
      "90.0\n",
      "40.0\n",
      "1434.7142132627291\n",
      "['10111100', '11001001', '10001101', '00111010', '10001100']\n",
      "76.86274509803921\n",
      "79.41176470588235\n",
      "67.64705882352942\n",
      "51.372549019607845\n",
      "67.45098039215686\n"
     ]
    }
   ],
   "source": [
    "\n",
    "#Generar una cadena aleatoria de genes\n",
    "def genDNAString(length:int):\n",
    "    adnString = ''.join(random.choice([\"0\",\"1\"]) for i in range(length))\n",
    "    #print(adnString)\n",
    "    return adnString\n",
    "\n",
    "#decodificar una cadena de genes\n",
    "def decodeDNAString(adnString:str,limInf:float,limSup:float):\n",
    "    num = int(adnString,2)                  #Este es un int\n",
    "    numBits = len(adnString)                #Número de bits\n",
    "    base = (limSup-limInf)/(2**numBits-1)   #Resolución por cada bit\n",
    "    return base*num + limInf\n",
    "\n",
    "#definir una función que genere n individuos\n",
    "def genIndividuals(cantidad:int):\n",
    "    ans = []\n",
    "    for i in range(cantidad):\n",
    "        ans.append(genDNAString(8))\n",
    "    return ans\n",
    "\n",
    "adnString = genDNAString(8)\n",
    "print(adnString,decodeDNAString(adnString,limInf,limSup))\n",
    "\n",
    "print(decodeDNAString(\"11111111\",limInf,limSup))\n",
    "print(decodeDNAString(\"00000000\",limInf,limSup))\n",
    "\n",
    "print(f(decodeDNAString(adnString,limInf,limSup)))\n",
    "\n",
    "individuos = genIndividuals(5)\n",
    "print(individuos)\n",
    "for i in individuos:\n",
    "    print(decodeDNAString(i,limInf,limSup))\n"
   ]
  }
 ],
 "metadata": {
  "interpreter": {
   "hash": "5f89ea19deeaaf1f176387edbb9b7cc72d721332c28040f46aae8421e811c1cf"
  },
  "kernelspec": {
   "display_name": "Python 3.9.7 ('base')",
   "language": "python",
   "name": "python3"
  },
  "language_info": {
   "codemirror_mode": {
    "name": "ipython",
    "version": 3
   },
   "file_extension": ".py",
   "mimetype": "text/x-python",
   "name": "python",
   "nbconvert_exporter": "python",
   "pygments_lexer": "ipython3",
   "version": "3.9.7"
  },
  "orig_nbformat": 4
 },
 "nbformat": 4,
 "nbformat_minor": 2
}
